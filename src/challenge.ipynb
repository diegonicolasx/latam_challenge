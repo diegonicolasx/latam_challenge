{
 "cells": [
  {
   "cell_type": "markdown",
   "metadata": {},
   "source": [
    "En este archivo puedes escribir lo que estimes conveniente. Te recomendamos detallar tu solución y todas las suposiciones que estás considerando. Aquí puedes ejecutar las funciones que definiste en los otros archivos de la carpeta src, medir el tiempo, memoria, etc."
   ]
  },
  {
   "cell_type": "markdown",
   "metadata": {},
   "source": [
    "**Nota:** El archivo *farmers-protest-tweets-2021-2-4.json* no esta incluido en el repositorio, ya que, debido a su tamaño, no pude subirlo a la plataforma de github."
   ]
  },
  {
   "cell_type": "markdown",
   "metadata": {},
   "source": [
    "# Modulos"
   ]
  },
  {
   "cell_type": "code",
   "execution_count": 7,
   "metadata": {},
   "outputs": [],
   "source": [
    "from q1_time import q1_time\n",
    "from q1_memory import q1_memory\n",
    "from q2_time import q2_time\n",
    "from q2_memory import q2_memory\n",
    "from q3_time import q3_time\n",
    "from q3_memory import q3_memory\n",
    "from utils import file_path"
   ]
  },
  {
   "cell_type": "markdown",
   "metadata": {},
   "source": [
    "# Pregunta 1"
   ]
  },
  {
   "cell_type": "markdown",
   "metadata": {},
   "source": [
    "Las top 10 fechas donde hay más tweets. Mencionar el usuario (username) que más publicaciones tiene por cada uno de esos días."
   ]
  },
  {
   "cell_type": "markdown",
   "metadata": {},
   "source": [
    "## Enfocte de tiempo"
   ]
  },
  {
   "cell_type": "code",
   "execution_count": 8,
   "metadata": {},
   "outputs": [
    {
     "name": "stdout",
     "output_type": "stream",
     "text": [
      "El resultado número 1 es: (datetime.date(2021, 2, 12), 'Ranbir Singh')\n",
      "El resultado número 2 es: (datetime.date(2021, 2, 13), 'ਦੀਪ,ਮਾਨ')\n",
      "El resultado número 3 es: (datetime.date(2021, 2, 17), 'Rkaur')\n",
      "El resultado número 4 es: (datetime.date(2021, 2, 16), 'Jot')\n",
      "El resultado número 5 es: (datetime.date(2021, 2, 14), 'Theinactiveactivist')\n",
      "El resultado número 6 es: (datetime.date(2021, 2, 18), 'Nitu')\n",
      "El resultado número 7 es: (datetime.date(2021, 2, 15), 'Jot')\n",
      "El resultado número 8 es: (datetime.date(2021, 2, 20), 'MJeet Singh🇮🇳')\n",
      "El resultado número 9 es: (datetime.date(2021, 2, 23), 'Surrypur')\n",
      "El resultado número 10 es: (datetime.date(2021, 2, 19), 'ਪ੍ਰੀਤਮ')\n"
     ]
    }
   ],
   "source": [
    "result_q1_time = q1_time(file_path)\n",
    "n=0\n",
    "for result in result_q1_time:\n",
    "    n = n +1\n",
    "    print(f\"El resultado número {n} es: {result}\")"
   ]
  },
  {
   "cell_type": "markdown",
   "metadata": {},
   "source": [
    "## Enfoque de memoria"
   ]
  },
  {
   "cell_type": "code",
   "execution_count": 9,
   "metadata": {},
   "outputs": [
    {
     "name": "stdout",
     "output_type": "stream",
     "text": [
      "El resultado número 1 es: (datetime.date(2021, 2, 12), 'Ranbir Singh')\n",
      "El resultado número 2 es: (datetime.date(2021, 2, 13), 'ਦੀਪ,ਮਾਨ')\n",
      "El resultado número 3 es: (datetime.date(2021, 2, 17), 'Rkaur')\n",
      "El resultado número 4 es: (datetime.date(2021, 2, 16), 'Jot')\n",
      "El resultado número 5 es: (datetime.date(2021, 2, 14), 'Theinactiveactivist')\n",
      "El resultado número 6 es: (datetime.date(2021, 2, 18), 'Nitu')\n",
      "El resultado número 7 es: (datetime.date(2021, 2, 15), 'Jot')\n",
      "El resultado número 8 es: (datetime.date(2021, 2, 20), 'MJeet Singh🇮🇳')\n",
      "El resultado número 9 es: (datetime.date(2021, 2, 23), 'Surrypur')\n",
      "El resultado número 10 es: (datetime.date(2021, 2, 19), 'ਪ੍ਰੀਤਮ')\n"
     ]
    }
   ],
   "source": [
    "result_q1_memory = q1_memory(file_path)\n",
    "n=0\n",
    "for result in result_q1_memory:\n",
    "    n = n +1\n",
    "    print(f\"El resultado número {n} es: {result}\")"
   ]
  },
  {
   "cell_type": "markdown",
   "metadata": {},
   "source": [
    "# Pregunta 2"
   ]
  },
  {
   "cell_type": "markdown",
   "metadata": {},
   "source": [
    "Los top 10 emojis más usados con su respectivo conteo."
   ]
  },
  {
   "cell_type": "markdown",
   "metadata": {},
   "source": [
    "## Enfocte de tiempo"
   ]
  },
  {
   "cell_type": "code",
   "execution_count": 10,
   "metadata": {},
   "outputs": [
    {
     "name": "stdout",
     "output_type": "stream",
     "text": [
      "El resultado número 1 es: ('🙏', 2166)\n",
      "El resultado número 2 es: ('🌾', 596)\n",
      "El resultado número 3 es: ('💚', 532)\n",
      "El resultado número 4 es: ('😂', 491)\n",
      "El resultado número 5 es: ('👍', 470)\n",
      "El resultado número 6 es: ('👉', 450)\n",
      "El resultado número 7 es: ('🙏🙏', 413)\n",
      "El resultado número 8 es: ('👇', 376)\n",
      "El resultado número 9 es: ('🚜', 341)\n",
      "El resultado número 10 es: ('🙏🏽', 327)\n"
     ]
    }
   ],
   "source": [
    "result_q2_time = q2_time(file_path)\n",
    "n=0\n",
    "for result in result_q2_time:\n",
    "    n = n +1\n",
    "    print(f\"El resultado número {n} es: {result}\")"
   ]
  },
  {
   "cell_type": "markdown",
   "metadata": {},
   "source": [
    "## Enfoque de memoria"
   ]
  },
  {
   "cell_type": "code",
   "execution_count": 11,
   "metadata": {},
   "outputs": [
    {
     "name": "stdout",
     "output_type": "stream",
     "text": [
      "El resultado número 1 es: ('🙏', 2166)\n",
      "El resultado número 2 es: ('🌾', 596)\n",
      "El resultado número 3 es: ('💚', 532)\n",
      "El resultado número 4 es: ('😂', 491)\n",
      "El resultado número 5 es: ('👍', 470)\n",
      "El resultado número 6 es: ('👉', 450)\n",
      "El resultado número 7 es: ('🙏🙏', 413)\n",
      "El resultado número 8 es: ('👇', 376)\n",
      "El resultado número 9 es: ('🚜', 341)\n",
      "El resultado número 10 es: ('🙏🏽', 327)\n"
     ]
    }
   ],
   "source": [
    "result_q2_memory = q2_memory(file_path)\n",
    "n=0\n",
    "for result in result_q2_memory:\n",
    "    n = n +1\n",
    "    print(f\"El resultado número {n} es: {result}\")"
   ]
  },
  {
   "cell_type": "markdown",
   "metadata": {},
   "source": [
    "# Pregunta 3"
   ]
  },
  {
   "cell_type": "markdown",
   "metadata": {},
   "source": [
    "El top 10 histórico de usuarios (username) más influyentes en función del conteo de las menciones (@) que registra cada uno de ellos."
   ]
  },
  {
   "cell_type": "markdown",
   "metadata": {},
   "source": [
    "## Enfoque de tiempo"
   ]
  },
  {
   "cell_type": "code",
   "execution_count": 12,
   "metadata": {},
   "outputs": [
    {
     "name": "stdout",
     "output_type": "stream",
     "text": [
      "El resultado número 1 es: ('narendramodi', 2261)\n",
      "El resultado número 2 es: ('Kisanektamorcha', 1836)\n",
      "El resultado número 3 es: ('RakeshTikaitBKU', 1639)\n",
      "El resultado número 4 es: ('PMOIndia', 1422)\n",
      "El resultado número 5 es: ('RahulGandhi', 1125)\n",
      "El resultado número 6 es: ('GretaThunberg', 1046)\n",
      "El resultado número 7 es: ('RaviSinghKA', 1015)\n",
      "El resultado número 8 es: ('rihanna', 972)\n",
      "El resultado número 9 es: ('UNHumanRights', 962)\n",
      "El resultado número 10 es: ('meenaharris', 925)\n"
     ]
    }
   ],
   "source": [
    "result_q3_time = q3_time(file_path)\n",
    "n=0\n",
    "for result in result_q3_time:\n",
    "    n = n +1\n",
    "    print(f\"El resultado número {n} es: {result}\")"
   ]
  },
  {
   "cell_type": "markdown",
   "metadata": {},
   "source": [
    "## Enfoque de memoria"
   ]
  },
  {
   "cell_type": "code",
   "execution_count": 13,
   "metadata": {},
   "outputs": [
    {
     "name": "stdout",
     "output_type": "stream",
     "text": [
      "El resultado número 1 es: ('narendramodi', 2261)\n",
      "El resultado número 2 es: ('Kisanektamorcha', 1836)\n",
      "El resultado número 3 es: ('RakeshTikaitBKU', 1639)\n",
      "El resultado número 4 es: ('PMOIndia', 1422)\n",
      "El resultado número 5 es: ('RahulGandhi', 1125)\n",
      "El resultado número 6 es: ('GretaThunberg', 1046)\n",
      "El resultado número 7 es: ('RaviSinghKA', 1015)\n",
      "El resultado número 8 es: ('rihanna', 972)\n",
      "El resultado número 9 es: ('UNHumanRights', 962)\n",
      "El resultado número 10 es: ('meenaharris', 925)\n"
     ]
    }
   ],
   "source": [
    "result_q3_memory = q3_memory(file_path)\n",
    "n=0\n",
    "for result in result_q3_memory:\n",
    "    n = n +1\n",
    "    print(f\"El resultado número {n} es: {result}\")"
   ]
  }
 ],
 "metadata": {
  "kernelspec": {
   "display_name": "Python 3 (ipykernel)",
   "language": "python",
   "name": "python3"
  },
  "language_info": {
   "codemirror_mode": {
    "name": "ipython",
    "version": 3
   },
   "file_extension": ".py",
   "mimetype": "text/x-python",
   "name": "python",
   "nbconvert_exporter": "python",
   "pygments_lexer": "ipython3",
   "version": "3.12.3"
  }
 },
 "nbformat": 4,
 "nbformat_minor": 4
}
